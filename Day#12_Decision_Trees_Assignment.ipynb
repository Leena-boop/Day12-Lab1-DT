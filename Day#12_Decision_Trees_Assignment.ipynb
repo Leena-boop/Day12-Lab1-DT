{
 "cells": [
  {
   "cell_type": "markdown",
   "id": "d985f77b",
   "metadata": {},
   "source": [
    "|  Column name  |  Description  |\n",
    "| ----- | ------- |\n",
    "| Num_posts        | Number of total posts that the user has ever posted   |\n",
    "| Num_following    | Number of following                                   |\n",
    "| Num_followers    | Number of followers                                   |\n",
    "| Biography_length | Length (number of characters) of the user's biography |\n",
    "| Picture_availability | Value 0 if the user has no profile picture, or 1 if has |\n",
    "| Link_availability| Value 0 if the user has no external URL, or 1 if has |\n",
    "| Average_caption_length | The average number of character of captions in media |\n",
    "| Caption_zero     | Percentage (0.0 to 1.0) of captions that has almost zero (<=3) length |\n",
    "| Non_image_percentage | Percentage (0.0 to 1.0) of non-image media. There are three types of media on an Instagram post, i.e. image, video, carousel\n",
    "| Engagement_rate_like | Engagement rate (ER) is commonly defined as (num likes) divide by (num media) divide by (num followers)\n",
    "| Engagement_rate_comment | Similar to ER like, but it is for comments |\n",
    "| Location_tag_percentage | Percentage (0.0 to 1.0) of posts tagged with location |\n",
    "| Average_hashtag_count   | Average number of hashtags used in a post |\n",
    "| Promotional_keywords | Average use of promotional keywords in hashtag, i.e. regrann, contest, repost, giveaway, mention, share, give away, quiz |\n",
    "| Followers_keywords | Average use of followers hunter keywords in hashtag, i.e. follow, like, folback, follback, f4f|\n",
    "| Cosine_similarity  | Average cosine similarity of between all pair of two posts a user has |\n",
    "| Post_interval      | Average interval between posts (in hours) |\n",
    "| real_fake          | r (real/authentic user), f (fake user/bought followers) |"
   ]
  },
  {
   "cell_type": "markdown",
   "id": "0589474a",
   "metadata": {},
   "source": [
    "# Q1: Import labraries"
   ]
  },
  {
   "cell_type": "code",
   "execution_count": 1,
   "id": "13f00a6a",
   "metadata": {},
   "outputs": [],
   "source": [
    "# write your code here ^_^\n",
    "# To ignore warnings\n",
    "import warnings\n",
    "warnings.filterwarnings(\"ignore\")\n",
    "import pandas as pd\n",
    "import numpy as np\n",
    "import matplotlib.pyplot as plt\n",
    "import seaborn as sns\n",
    "%matplotlib inline"
   ]
  },
  {
   "cell_type": "markdown",
   "id": "fc2557da",
   "metadata": {},
   "source": [
    "# Q2: Read instagram_users.csv file"
   ]
  },
  {
   "cell_type": "code",
   "execution_count": 17,
   "id": "f7c3f583",
   "metadata": {},
   "outputs": [],
   "source": [
    "# write your code here ^_^\n",
    "df = pd.read_csv('instagram_users.csv')"
   ]
  },
  {
   "cell_type": "code",
   "execution_count": 3,
   "id": "b90c6a20",
   "metadata": {},
   "outputs": [
    {
     "name": "stdout",
     "output_type": "stream",
     "text": [
      "<class 'pandas.core.frame.DataFrame'>\n",
      "RangeIndex: 64244 entries, 0 to 64243\n",
      "Data columns (total 18 columns):\n",
      " #   Column                   Non-Null Count  Dtype  \n",
      "---  ------                   --------------  -----  \n",
      " 0    Num_posts               64244 non-null  int64  \n",
      " 1   Num_following            64244 non-null  int64  \n",
      " 2   Num_followers            64244 non-null  int64  \n",
      " 3   Biography_length         64244 non-null  int64  \n",
      " 4   Picture_availability     64244 non-null  int64  \n",
      " 5   Link_availability        64244 non-null  int64  \n",
      " 6   Average_caption_length   64244 non-null  int64  \n",
      " 7   Caption_zero             64244 non-null  float64\n",
      " 8   Non_image_percentage     64244 non-null  float64\n",
      " 9   Engagement_rate_like     64244 non-null  float64\n",
      " 10  Engagement_rate_comment  64244 non-null  float64\n",
      " 11  Location_tag_percentage  64244 non-null  float64\n",
      " 12  Average_hashtag_count    64244 non-null  float64\n",
      " 13  Promotional_keywords     64244 non-null  float64\n",
      " 14  Followers_keywords       64244 non-null  float64\n",
      " 15  Cosine_similarity        64244 non-null  float64\n",
      " 16  Post_interval            64244 non-null  float64\n",
      " 17  real_fake                64244 non-null  object \n",
      "dtypes: float64(10), int64(7), object(1)\n",
      "memory usage: 8.8+ MB\n"
     ]
    },
    {
     "data": {
      "text/html": [
       "<div>\n",
       "<style scoped>\n",
       "    .dataframe tbody tr th:only-of-type {\n",
       "        vertical-align: middle;\n",
       "    }\n",
       "\n",
       "    .dataframe tbody tr th {\n",
       "        vertical-align: top;\n",
       "    }\n",
       "\n",
       "    .dataframe thead th {\n",
       "        text-align: right;\n",
       "    }\n",
       "</style>\n",
       "<table border=\"1\" class=\"dataframe\">\n",
       "  <thead>\n",
       "    <tr style=\"text-align: right;\">\n",
       "      <th></th>\n",
       "      <th>Num_posts</th>\n",
       "      <th>Num_following</th>\n",
       "      <th>Num_followers</th>\n",
       "      <th>Biography_length</th>\n",
       "      <th>Picture_availability</th>\n",
       "      <th>Link_availability</th>\n",
       "      <th>Average_caption_length</th>\n",
       "      <th>Caption_zero</th>\n",
       "      <th>Non_image_percentage</th>\n",
       "      <th>Engagement_rate_like</th>\n",
       "      <th>Engagement_rate_comment</th>\n",
       "      <th>Location_tag_percentage</th>\n",
       "      <th>Average_hashtag_count</th>\n",
       "      <th>Promotional_keywords</th>\n",
       "      <th>Followers_keywords</th>\n",
       "      <th>Cosine_similarity</th>\n",
       "      <th>Post_interval</th>\n",
       "    </tr>\n",
       "  </thead>\n",
       "  <tbody>\n",
       "    <tr>\n",
       "      <th>count</th>\n",
       "      <td>64244.000000</td>\n",
       "      <td>6.424400e+04</td>\n",
       "      <td>64244.000000</td>\n",
       "      <td>64244.000000</td>\n",
       "      <td>64244.000000</td>\n",
       "      <td>64244.000000</td>\n",
       "      <td>64244.000000</td>\n",
       "      <td>64244.000000</td>\n",
       "      <td>64244.000000</td>\n",
       "      <td>64244.000000</td>\n",
       "      <td>64244.000000</td>\n",
       "      <td>64244.000000</td>\n",
       "      <td>64244.000000</td>\n",
       "      <td>64244.000000</td>\n",
       "      <td>64244.000000</td>\n",
       "      <td>64244.000000</td>\n",
       "      <td>64244.000000</td>\n",
       "    </tr>\n",
       "    <tr>\n",
       "      <th>mean</th>\n",
       "      <td>179.545047</td>\n",
       "      <td>1.202470e+03</td>\n",
       "      <td>2297.041732</td>\n",
       "      <td>58.464464</td>\n",
       "      <td>0.959140</td>\n",
       "      <td>0.286673</td>\n",
       "      <td>138.822131</td>\n",
       "      <td>0.254160</td>\n",
       "      <td>0.196484</td>\n",
       "      <td>19.469109</td>\n",
       "      <td>1.158611</td>\n",
       "      <td>0.212395</td>\n",
       "      <td>0.516348</td>\n",
       "      <td>0.033296</td>\n",
       "      <td>0.053727</td>\n",
       "      <td>0.289861</td>\n",
       "      <td>504.836848</td>\n",
       "    </tr>\n",
       "    <tr>\n",
       "      <th>std</th>\n",
       "      <td>729.171634</td>\n",
       "      <td>2.188954e+04</td>\n",
       "      <td>2572.939318</td>\n",
       "      <td>64.228211</td>\n",
       "      <td>0.197967</td>\n",
       "      <td>0.452211</td>\n",
       "      <td>216.786922</td>\n",
       "      <td>0.339104</td>\n",
       "      <td>0.253804</td>\n",
       "      <td>122.036954</td>\n",
       "      <td>5.857458</td>\n",
       "      <td>0.301645</td>\n",
       "      <td>1.164729</td>\n",
       "      <td>0.222799</td>\n",
       "      <td>0.523365</td>\n",
       "      <td>0.341986</td>\n",
       "      <td>950.611615</td>\n",
       "    </tr>\n",
       "    <tr>\n",
       "      <th>min</th>\n",
       "      <td>0.000000</td>\n",
       "      <td>0.000000e+00</td>\n",
       "      <td>0.000000</td>\n",
       "      <td>0.000000</td>\n",
       "      <td>0.000000</td>\n",
       "      <td>0.000000</td>\n",
       "      <td>-1.000000</td>\n",
       "      <td>0.000000</td>\n",
       "      <td>0.000000</td>\n",
       "      <td>0.000000</td>\n",
       "      <td>0.000000</td>\n",
       "      <td>0.000000</td>\n",
       "      <td>0.000000</td>\n",
       "      <td>0.000000</td>\n",
       "      <td>0.000000</td>\n",
       "      <td>0.000000</td>\n",
       "      <td>0.000000</td>\n",
       "    </tr>\n",
       "    <tr>\n",
       "      <th>25%</th>\n",
       "      <td>6.000000</td>\n",
       "      <td>1.310000e+02</td>\n",
       "      <td>403.000000</td>\n",
       "      <td>0.000000</td>\n",
       "      <td>1.000000</td>\n",
       "      <td>0.000000</td>\n",
       "      <td>9.000000</td>\n",
       "      <td>0.000000</td>\n",
       "      <td>0.000000</td>\n",
       "      <td>3.000000</td>\n",
       "      <td>0.090000</td>\n",
       "      <td>0.000000</td>\n",
       "      <td>0.000000</td>\n",
       "      <td>0.000000</td>\n",
       "      <td>0.000000</td>\n",
       "      <td>0.032954</td>\n",
       "      <td>29.064719</td>\n",
       "    </tr>\n",
       "    <tr>\n",
       "      <th>50%</th>\n",
       "      <td>31.000000</td>\n",
       "      <td>3.480000e+02</td>\n",
       "      <td>997.000000</td>\n",
       "      <td>34.000000</td>\n",
       "      <td>1.000000</td>\n",
       "      <td>0.000000</td>\n",
       "      <td>48.000000</td>\n",
       "      <td>0.055556</td>\n",
       "      <td>0.083000</td>\n",
       "      <td>9.690000</td>\n",
       "      <td>0.460000</td>\n",
       "      <td>0.000000</td>\n",
       "      <td>0.111000</td>\n",
       "      <td>0.000000</td>\n",
       "      <td>0.000000</td>\n",
       "      <td>0.133135</td>\n",
       "      <td>190.369553</td>\n",
       "    </tr>\n",
       "    <tr>\n",
       "      <th>75%</th>\n",
       "      <td>127.000000</td>\n",
       "      <td>8.300000e+02</td>\n",
       "      <td>3500.000000</td>\n",
       "      <td>111.000000</td>\n",
       "      <td>1.000000</td>\n",
       "      <td>1.000000</td>\n",
       "      <td>174.000000</td>\n",
       "      <td>0.444444</td>\n",
       "      <td>0.333000</td>\n",
       "      <td>18.860001</td>\n",
       "      <td>1.060000</td>\n",
       "      <td>0.357000</td>\n",
       "      <td>0.611000</td>\n",
       "      <td>0.000000</td>\n",
       "      <td>0.000000</td>\n",
       "      <td>0.431373</td>\n",
       "      <td>591.858658</td>\n",
       "    </tr>\n",
       "    <tr>\n",
       "      <th>max</th>\n",
       "      <td>76200.000000</td>\n",
       "      <td>3.900000e+06</td>\n",
       "      <td>8800.000000</td>\n",
       "      <td>555.000000</td>\n",
       "      <td>1.000000</td>\n",
       "      <td>1.000000</td>\n",
       "      <td>3644.000000</td>\n",
       "      <td>1.000000</td>\n",
       "      <td>1.000000</td>\n",
       "      <td>26650.000000</td>\n",
       "      <td>1009.090027</td>\n",
       "      <td>1.000000</td>\n",
       "      <td>30.000000</td>\n",
       "      <td>20.000000</td>\n",
       "      <td>58.000000</td>\n",
       "      <td>1.000000</td>\n",
       "      <td>26786.134766</td>\n",
       "    </tr>\n",
       "  </tbody>\n",
       "</table>\n",
       "</div>"
      ],
      "text/plain": [
       "          Num_posts  Num_following  Num_followers  Biography_length  \\\n",
       "count  64244.000000   6.424400e+04   64244.000000      64244.000000   \n",
       "mean     179.545047   1.202470e+03    2297.041732         58.464464   \n",
       "std      729.171634   2.188954e+04    2572.939318         64.228211   \n",
       "min        0.000000   0.000000e+00       0.000000          0.000000   \n",
       "25%        6.000000   1.310000e+02     403.000000          0.000000   \n",
       "50%       31.000000   3.480000e+02     997.000000         34.000000   \n",
       "75%      127.000000   8.300000e+02    3500.000000        111.000000   \n",
       "max    76200.000000   3.900000e+06    8800.000000        555.000000   \n",
       "\n",
       "       Picture_availability  Link_availability  Average_caption_length  \\\n",
       "count          64244.000000       64244.000000            64244.000000   \n",
       "mean               0.959140           0.286673              138.822131   \n",
       "std                0.197967           0.452211              216.786922   \n",
       "min                0.000000           0.000000               -1.000000   \n",
       "25%                1.000000           0.000000                9.000000   \n",
       "50%                1.000000           0.000000               48.000000   \n",
       "75%                1.000000           1.000000              174.000000   \n",
       "max                1.000000           1.000000             3644.000000   \n",
       "\n",
       "       Caption_zero  Non_image_percentage  Engagement_rate_like  \\\n",
       "count  64244.000000          64244.000000          64244.000000   \n",
       "mean       0.254160              0.196484             19.469109   \n",
       "std        0.339104              0.253804            122.036954   \n",
       "min        0.000000              0.000000              0.000000   \n",
       "25%        0.000000              0.000000              3.000000   \n",
       "50%        0.055556              0.083000              9.690000   \n",
       "75%        0.444444              0.333000             18.860001   \n",
       "max        1.000000              1.000000          26650.000000   \n",
       "\n",
       "       Engagement_rate_comment  Location_tag_percentage  \\\n",
       "count             64244.000000             64244.000000   \n",
       "mean                  1.158611                 0.212395   \n",
       "std                   5.857458                 0.301645   \n",
       "min                   0.000000                 0.000000   \n",
       "25%                   0.090000                 0.000000   \n",
       "50%                   0.460000                 0.000000   \n",
       "75%                   1.060000                 0.357000   \n",
       "max                1009.090027                 1.000000   \n",
       "\n",
       "       Average_hashtag_count  Promotional_keywords  Followers_keywords  \\\n",
       "count           64244.000000          64244.000000        64244.000000   \n",
       "mean                0.516348              0.033296            0.053727   \n",
       "std                 1.164729              0.222799            0.523365   \n",
       "min                 0.000000              0.000000            0.000000   \n",
       "25%                 0.000000              0.000000            0.000000   \n",
       "50%                 0.111000              0.000000            0.000000   \n",
       "75%                 0.611000              0.000000            0.000000   \n",
       "max                30.000000             20.000000           58.000000   \n",
       "\n",
       "       Cosine_similarity  Post_interval  \n",
       "count       64244.000000   64244.000000  \n",
       "mean            0.289861     504.836848  \n",
       "std             0.341986     950.611615  \n",
       "min             0.000000       0.000000  \n",
       "25%             0.032954      29.064719  \n",
       "50%             0.133135     190.369553  \n",
       "75%             0.431373     591.858658  \n",
       "max             1.000000   26786.134766  "
      ]
     },
     "execution_count": 3,
     "metadata": {},
     "output_type": "execute_result"
    }
   ],
   "source": [
    "df.info()\n",
    "df.describe()"
   ]
  },
  {
   "cell_type": "markdown",
   "id": "2fd48ba4",
   "metadata": {},
   "source": [
    "# Q3: Split tha dataset into training and testing"
   ]
  },
  {
   "cell_type": "code",
   "execution_count": 20,
   "id": "5ded35b4",
   "metadata": {},
   "outputs": [],
   "source": [
    "#X = df['Num_posts ', 'Num_following ', 'Num_followers ','Biography_length  ', 'Picture_availability ','Link_availability' , 'Average_caption_length', 'Caption_zero','Non_image_percentage','Engagement_rate_like' ,'Engagement_rate_comment','Location_tag_percentage', 'Average_hashtag_count','Promotional_keywords','Followers_keywords','Cosine_similarity','Post_interval']\n",
    "#y = df['real_fake']\n",
    "X = df.drop('real_fake',axis=1)\n",
    "y = df['real_fake']"
   ]
  },
  {
   "cell_type": "code",
   "execution_count": 21,
   "id": "9e94233d",
   "metadata": {},
   "outputs": [],
   "source": [
    "# write your code here ^_^\n",
    "\n",
    "from sklearn.model_selection import train_test_split\n",
    "X_train, X_test, y_train, y_test = train_test_split(X, y, test_size=0.30)"
   ]
  },
  {
   "cell_type": "markdown",
   "id": "6db25de6",
   "metadata": {},
   "source": [
    "# Q4: Build three machine models "
   ]
  },
  {
   "cell_type": "markdown",
   "id": "2a9943d1",
   "metadata": {},
   "source": [
    "## Q4.1: The first machine model\n",
    "- Print the model's name.\n",
    "- Print the model's accuracy.\n",
    "- Print the model's confusion matrix."
   ]
  },
  {
   "cell_type": "code",
   "execution_count": 28,
   "id": "0e8f4d29",
   "metadata": {},
   "outputs": [
    {
     "name": "stdout",
     "output_type": "stream",
     "text": [
      "0.852651240012452\n"
     ]
    },
    {
     "data": {
      "image/png": "[encoded data removed]",
      "text/plain": [
       "<Figure size 432x288 with 2 Axes>"
      ]
     },
     "metadata": {
      "needs_background": "light"
     },
     "output_type": "display_data"
    }
   ],
   "source": [
    "from sklearn.tree import DecisionTreeClassifier\n",
    "from sklearn.metrics import classification_report,confusion_matrix, accuracy_score\n",
    "dtree = DecisionTreeClassifier()\n",
    "dtree.fit(X_train,y_train) #by fit we trained the model\n",
    "predictions = dtree.predict(X_test)\n",
    "print(accuracy_score(y_test,predictions)) # printing the accuracy\n",
    "from sklearn.metrics import plot_confusion_matrix\n",
    "plot_confusion_matrix(dtree, X_test, y_test)  \n",
    "plt.show()"
   ]
  },
  {
   "cell_type": "markdown",
   "id": "55c11dc4",
   "metadata": {},
   "source": [
    "## Q4.2: The second machine model\n",
    "- Print the model's name.\n",
    "- Print the model's accuracy.\n",
    "- Print the model's confusion matrix."
   ]
  },
  {
   "cell_type": "code",
   "execution_count": 32,
   "id": "b37a0953",
   "metadata": {},
   "outputs": [
    {
     "name": "stdout",
     "output_type": "stream",
     "text": [
      "0.852651240012452\n"
     ]
    },
    {
     "data": {
      "text/plain": [
       "<sklearn.metrics._plot.confusion_matrix.ConfusionMatrixDisplay at 0x7fe54bde6f70>"
      ]
     },
     "execution_count": 32,
     "metadata": {},
     "output_type": "execute_result"
    },
    {
     "data": {
      "image/png": "[encoded data removed]",
      "text/plain": [
       "<Figure size 432x288 with 2 Axes>"
      ]
     },
     "metadata": {
      "needs_background": "light"
     },
     "output_type": "display_data"
    }
   ],
   "source": [
    "from sklearn.ensemble import RandomForestClassifier\n",
    "rfc = RandomForestClassifier(n_estimators=100) #the n estimator refers to n the number of trees\n",
    "rfc.fit(X_train, y_train) #training the model\n",
    "rfc_pred = rfc.predict(X_test)\n",
    "#print the accuracy\n",
    "print(accuracy_score(y_test,predictions)) \n",
    "plot_confusion_matrix(rfc, X_test, y_test)  "
   ]
  },
  {
   "cell_type": "markdown",
   "id": "311f9f19",
   "metadata": {},
   "source": [
    "## Q4.3: The third machine model\n",
    "- Print the model's name.\n",
    "- Print the model's accuracy.\n",
    "- Print the model's confusion matrix."
   ]
  },
  {
   "cell_type": "code",
   "execution_count": 53,
   "id": "f73c0c18",
   "metadata": {},
   "outputs": [
    {
     "name": "stdout",
     "output_type": "stream",
     "text": [
      "0.852651240012452\n"
     ]
    },
    {
     "data": {
      "text/plain": [
       "<sklearn.metrics._plot.confusion_matrix.ConfusionMatrixDisplay at 0x7fe54c62c970>"
      ]
     },
     "execution_count": 53,
     "metadata": {},
     "output_type": "execute_result"
    },
    {
     "data": {
      "image/png": "[encoded data removed]",
      "text/plain": [
       "<Figure size 432x288 with 2 Axes>"
      ]
     },
     "metadata": {
      "needs_background": "light"
     },
     "output_type": "display_data"
    }
   ],
   "source": [
    "#Naive Bayseen \n",
    "from sklearn.datasets import load_iris\n",
    "from sklearn.naive_bayes import GaussianNB\n",
    "clf = GaussianNB()\n",
    "clf.fit(X, y)\n",
    "v = clf.predict(X)\n",
    "print(accuracy_score(y_test,predictions))\n",
    "plot_confusion_matrix(clf, X, y)  \n",
    "\n"
   ]
  }
 ],
 "metadata": {
  "kernelspec": {
   "display_name": "Python 3.9.12 ('base')",
   "language": "python",
   "name": "python3"
  },
  "language_info": {
   "codemirror_mode": {
    "name": "ipython",
    "version": 3
   },
   "file_extension": ".py",
   "mimetype": "text/x-python",
   "name": "python",
   "nbconvert_exporter": "python",
   "pygments_lexer": "ipython3",
   "version": "3.9.12"
  },
  "vscode": {
   "interpreter": {
    "hash": "e14edaf5c5389caffd78999e1423323dbf9219a7969027bff8aed669bee9880a"
   }
  }
 },
 "nbformat": 4,
 "nbformat_minor": 5
}
